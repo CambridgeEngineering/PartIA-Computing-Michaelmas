{
 "cells": [
  {
   "cell_type": "markdown",
   "metadata": {},
   "source": [
    "# Juyter notebooks\n",
    "\n",
    "This is a *Jupyter notebook*. We will be computing using [Jupyter notebooks](https://jupyter.org/) and \n",
    "the programming language [Python](https://www.python.org/).\n",
    "Jupyter notebooks provide an interactive environment where you can mix text, equations, computer code\n",
    "and visual outputs. This is new technology that is increasingly widely used, and it is all free and open-source."
   ]
  },
  {
   "cell_type": "markdown",
   "metadata": {},
   "source": [
    "## Using the Colaboratory notebook service\n",
    "\n",
    "The Colaboratory notebook service provides a cloud-based Jupyter notebook environment at https://colab.research.google.com/. You can log in with your CRSid."
   ]
  },
  {
   "cell_type": "markdown",
   "metadata": {},
   "source": [
    "### Running and viewing the course material\n",
    "\n",
    "There are 12 notebook activities for this course, plus some other helper notebooks (including this one), arranged in a library.\n",
    "\n",
    "- Click on a notebook to view it.\n",
    "\n",
    "- Click 'Copy to Drive' Clone' to save your work. When prompted to log in, use your CRSid.\n",
    "  \n",
    "Experiment freely with your clone of the activity notebooks - you can always return to the master version."
   ]
  },
  {
   "cell_type": "markdown",
   "metadata": {},
   "source": [
    "### Creating your own notebooks\n",
    "\n",
    "To create your own notebooks log in at https://colab.research.google.com/ and click 'NEW NOTEBOOK'\n",
    "By default, the name of your new notebook will be 'Untitled'. \n",
    "\n",
    "It would be a good idea to periodically download your notebooks for safe keeping."
   ]
  },
  {
   "cell_type": "markdown",
   "metadata": {},
   "source": [
    "## Editing and running notebooks\n",
    "\n",
    "Jupyter notebooks have *text* cells and *code* cells. If you double-click on part of a notebook\n",
    "in a Jupyter environment, the cell\n",
    "will become editable. You will see in the menu bar whether it is a text cell ('Markdown') or a code cell ('Code').\n",
    "You can use the drop-down box at the top of a notebook to change the cell type.\n",
    "You can use `Insert` from the menu bar to insert a new cell.\n",
    "\n",
    "The current cell can be 'run' using `shift-return` (the current cell is highlighted by a bar on the left-hand\n",
    "side of the page). When run, a text cell will be typeset, and the code in a 'code cell' will be executed. \n",
    "Any output from a code cell will appear below the code.\n",
    "\n",
    "Often you will want to run all cells from the start of a notebook. You can do this with `Kernel -> Restart & Run All` from the notebook menu bar. In this case the cells are executed in order (first through to last).\n",
    "\n",
    "Below is a code cell:"
   ]
  },
  {
   "cell_type": "code",
   "execution_count": 1,
   "metadata": {},
   "outputs": [
    {
     "name": "stdout",
     "output_type": "stream",
     "text": [
      "7\n"
     ]
    }
   ],
   "source": [
    "print(3 + 4)"
   ]
  },
  {
   "cell_type": "markdown",
   "metadata": {},
   "source": [
    "## Formatting text cells\n",
    "\n",
    "Text cells are formatted using *Markdown*, and using *LaTeX* syntax for mathematics.\n",
    "Make extensive use of text cells to explain what your program does, and how it does it.\n",
    "Use mathematical typesetting to express yourself mathematically."
   ]
  },
  {
   "cell_type": "markdown",
   "metadata": {},
   "source": [
    "###  Markdown\n",
    "\n",
    "You can find all the details in the [Jupyter Markdown documentation](https://jupyter-notebook.readthedocs.io/en/latest/examples/Notebook/Working%20With%20Markdown%20Cells.html).\n",
    "Below is a brief summary."
   ]
  },
  {
   "cell_type": "markdown",
   "metadata": {},
   "source": [
    "#### Headings \n",
    "\n",
    "Using Markdown, headings are indicated by '`#`':\n",
    "```\n",
    "# Top level heading\n",
    "## Second level heading\n",
    "### Third level heading\n",
    "```"
   ]
  },
  {
   "cell_type": "markdown",
   "metadata": {},
   "source": [
    "#### Text style\n",
    "\n",
    "The Markdown input\n",
    "```\n",
    "Opening passage\n",
    "\n",
    "`A passage of text`\n",
    "\n",
    "*Some more text*\n",
    "\n",
    "**Yet more text**\n",
    "\n",
    "```\n",
    "\n",
    "appears as:\n",
    "\n",
    "\n",
    "Opening passage\n",
    "\n",
    "`A passage of text`\n",
    "\n",
    "*Some more text*\n",
    "\n",
    "**Yet more text**"
   ]
  },
  {
   "cell_type": "markdown",
   "metadata": {},
   "source": [
    "#### Lists\n",
    "\n",
    "You can create bulleted lists using:\n",
    "```\n",
    "- Option A\n",
    "- Option B\n",
    "```\n",
    "to show\n",
    "- Option A\n",
    "- Option B\n",
    "\n",
    "and enumerated lists using\n",
    "```\n",
    "1. Old approach\n",
    "1. New approach\n",
    "```\n",
    "to show\n",
    "1. Old approach\n",
    "1. New approach\n",
    "\n",
    "Markdown resolves the list number for you."
   ]
  },
  {
   "cell_type": "markdown",
   "metadata": {},
   "source": [
    "#### Code\n",
    "\n",
    "Code can be typeset using:\n",
    "\n",
    "    ```python\n",
    "    def f(x):\n",
    "        return x*x\n",
    "    ```\n",
    "\n",
    "which produces\n",
    "\n",
    "```python\n",
    "def f(x):\n",
    "    return x*x\n",
    "```"
   ]
  },
  {
   "cell_type": "markdown",
   "metadata": {},
   "source": [
    "You can include images in Jupyter notebooks - see [Jupyter Markdown documentation](https://jupyter-notebook.readthedocs.io/en/latest/examples/Notebook/Working%20With%20Markdown%20Cells.html)."
   ]
  },
  {
   "cell_type": "markdown",
   "metadata": {},
   "source": [
    "### LaTeX\n",
    "\n",
    "Markdown cells support [LaTeX](https://www.latex-project.org/) syntax for typesetting mathematics. LaTeX is the leading tool for technical documents and presenting mathematics, and it is free.\n",
    "\n",
    "> Learning LaTeX now is a good investment for later in the Tripos. You might want to try https://www.overleaf.com/ for an online LaTeX environment. \n",
    "\n",
    "To typeset an inline equation, use:\n",
    "```\n",
    "The term of interest in this case is $\\exp(-2x) \\sin(3 x^{4})$.\n",
    "```\n",
    "which will appear as:\n",
    "\n",
    "'The term of interest in this case is $\\exp(-2x) \\sin(\\alpha x^{4})$.'\n",
    "\n",
    "For a displayed equation, from\n",
    "```\n",
    "We wish to evaluate\n",
    "\n",
    "$$\n",
    "f(x) = \\beta x^{3} \\int_{0}^{2} g(x) \\, dx\n",
    "$$\n",
    "\n",
    "when $\\beta = 4$.\n",
    "```\n",
    "we get:\n",
    "\n",
    "'We wish to evaluate\n",
    "\n",
    "$$\n",
    "f(x) = \\beta x^{3} \\int_{0}^{2} g(x) \\, dx\n",
    "$$\n",
    "\n",
    "when $\\beta = 4$.'\n",
    "\n",
    "Search online to learn the LaTeX commands for different mathematical symbols. If \n",
    "you see an example of mathematical typesetting in a notebook, you can also double-click \n",
    "it in a Jupyter environment\n",
    "to see the syntax. "
   ]
  },
  {
   "cell_type": "markdown",
   "metadata": {},
   "source": [
    "## Running Jupyter locally (optional)\n",
    "\n",
    "\n",
    "See [here](00%20Part%20IA%20Michaelmas%20Term%20computing.ipynb#Running-locally) for suggestions on running\n",
    "Jupyter locally."
   ]
  }
 ],
 "metadata": {
  "kernelspec": {
   "display_name": "Python 3 (ipykernel)",
   "language": "python",
   "name": "python3"
  },
  "language_info": {
   "codemirror_mode": {
    "name": "ipython",
    "version": 3
   },
   "file_extension": ".py",
   "mimetype": "text/x-python",
   "name": "python",
   "nbconvert_exporter": "python",
   "pygments_lexer": "ipython3",
   "version": "3.10.6"
  }
 },
 "nbformat": 4,
 "nbformat_minor": 4
}
