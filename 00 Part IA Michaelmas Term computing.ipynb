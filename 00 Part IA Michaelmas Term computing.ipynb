{
 "cells": [
  {
   "cell_type": "markdown",
   "metadata": {},
   "source": [
    "# Part IA Michaelmas Term computing\n",
    "\n",
    "This is an introductory course to computing. It does not assume any prior computing experience, but does assume a level of mathematical knowledge.\n",
    "\n",
    "The course runs in the Michaelmas Term computing at the Department of Engineering, University of Cambridge. \n",
    "\n",
    "[![Open In Colab](https://colab.research.google.com/assets/colab-badge.svg)](https://colab.research.google.com/github/CambridgeEngineering/PartIA-Computing-Michaelmas)"
   ]
  },
  {
   "cell_type": "markdown",
   "metadata": {},
   "source": [
    "## Structure\n",
    "\n",
    "Computing is best learned by doing, and seeking help when you need it. This course involves self-study, interactive Jupyter notebook 'activities', with exercises at the end of each\n",
    "activity. The activity notebooks cover:\n",
    "\n",
    "1. [Variables, assignment and operator precedence](01%20Variables,%20assignment%20and%20operator%20precedence.ipynb)\n",
    "1. [Control statements](02%20Control%20statements.ipynb)\n",
    "1. [Types, type conversions and floating point arithmetic](03%20Types,%20type%20conversions%20and%20floating%20point%20arithmetic.ipynb)\n",
    "1. [Functions](04%20Functions.ipynb)\n",
    "1. [Library functions](05%20Library%20functions.ipynb)\n",
    "1. [Data structures](06%20Data%20structures.ipynb)\n",
    "1. [Numerical computation](07%20Numerical%20computation.ipynb)\n",
    "1. [Plotting](08%20Plotting.ipynb)\n",
    "1. [Error handling and testing](09%20Error%20handling%20and%20testing.ipynb)\n",
    "1. [Algorithms](10%20Algorithms.ipynb)\n",
    "1. [Complexity](11%20Complexity.ipynb)\n",
    "1. [Object-oriented design](12%20Object-oriented%20design.ipynb)\n",
    "1. [Compiled and interpreted languages](13%20Compiled%20and%20interpreted%20languages.ipynb) (optional)\n",
    "\n",
    "The notebooks are designed to be completed in order. To complete an activity:\n",
    "\n",
    "1. Read through a notebook, and change parts of the programs if you want to experiment with what \n",
    "   happens - this will help your understanding. \n",
    "1. Complete the exercises for the notebook before moving onto the next activity.\n",
    "\n",
    "As you move through the activities you might need to revise some of the earlier notebooks."
   ]
  },
  {
   "cell_type": "markdown",
   "metadata": {},
   "source": [
    "## Completing exercises\n",
    "\n",
    "Exercises for each notebook are in the [Exercises](Exercises/) directory.\n",
    "\n",
    "- Use Markdown cells, and where appropriate add equations using LaTeX, to describe what your program is doing.\n",
    "- For longer exercises, you may want to break your program into multiple cells, with descriptions in \n",
    "  Markdown before cells with code.\n",
    "- Most exercises include some automated testing to provide feedback on the correctness of \n",
    "  your implementations. You are not expected to understand the test syntax to start.   \n",
    "  \n",
    "You are required to present your exercise solutions at a marking session. Check the lab rota for your timetabled marking slot."
   ]
  },
  {
   "cell_type": "markdown",
   "metadata": {},
   "source": [
    "## Getting help\n",
    "\n",
    "The best resource is the Internet. Cambridge engineering students can use the Help Desk, deails of which are on the course VLE site."
   ]
  },
  {
   "cell_type": "markdown",
   "metadata": {},
   "source": [
    "### Providing help\n",
    "\n",
    "Peer support is encouraged - if you receive help make sure that you do understand what you have done."
   ]
  },
  {
   "cell_type": "markdown",
   "metadata": {},
   "source": [
    "## Jupyter notebooks\n",
    "\n",
    "This is a Jupyter Notebook. We will be computing using [Jupyter Notebooks](https://jupyter.org/) and \n",
    "the programming language [Python](https://www.python.org/).\n",
    "Jupyter Notebooks  provide an interactive environment where you can mix text, equations, programming\n",
    "and visual outputs. This is technology is increasingly widely used, and it is all open-source. \n",
    "You will find Jupyter Notebooks useful throughout the course."
   ]
  },
  {
   "cell_type": "markdown",
   "metadata": {},
   "source": [
    "### Using notebooks\n",
    "\n",
    "See the notebook [Using notebooks](Using%20notebooks.ipynb) for guidence."
   ]
  },
  {
   "cell_type": "markdown",
   "metadata": {},
   "source": [
    "### Running notebooks\n",
    "\n",
    "#### Colaboratory notebook service\n",
    "\n",
    "Using the [Colaboratory](https://colab.research.google.com/) Jupyter is recommended. Cambridge students should log in using their CRSid to save work.\n",
    "\n",
    "[![Open In Colab](https://colab.research.google.com/assets/colab-badge.svg)](https://colab.research.google.com/github/CambridgeEngineering/PartIA-Computing-Michaelmas)\n",
    "\n",
    "\n",
    "#### Running locally\n",
    "\n",
    "Jupyter can be run locally. The [Anaconda](https://www.anaconda.com/download) distribution is recommended. Anaconda is also installed in the DPO."
   ]
  },
  {
   "cell_type": "markdown",
   "metadata": {},
   "source": [
    "## Other resources\n",
    "\n",
    "There are many online resources for learning computing, Python, and on using Jupyter notebooks.\n",
    "A search engine is the best way to find relevant material."
   ]
  }
 ],
 "metadata": {
  "kernelspec": {
   "display_name": "Python 3 (ipykernel)",
   "language": "python",
   "name": "python3"
  },
  "language_info": {
   "codemirror_mode": {
    "name": "ipython",
    "version": 3
   },
   "file_extension": ".py",
   "mimetype": "text/x-python",
   "name": "python",
   "nbconvert_exporter": "python",
   "pygments_lexer": "ipython3",
   "version": "3.10.6"
  }
 },
 "nbformat": 4,
 "nbformat_minor": 4
}
