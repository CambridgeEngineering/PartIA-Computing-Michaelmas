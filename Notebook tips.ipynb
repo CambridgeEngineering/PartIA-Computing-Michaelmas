{
 "cells": [
  {
   "cell_type": "markdown",
   "metadata": {},
   "source": [
    "# IPython magic commands\n",
    "\n",
    "When using Python with Jupyter, we are actually using the *IPython kernel* to run code. [IPython](https://ipython.org/) has what are known as *magic commands* that help us interact with Jupyter. \n",
    "Magic commands are prefixed by '`%`'.\n",
    "Magic commands are *not* part of the Python language; they are specific to IPython. In a plain Python program, magic commands would not be recognised and would lead to an error.\n",
    "\n",
    "We summarise below the magic functions that are used in the Activity notebooks.\n",
    "The full documentation for IPython magic commands is available [here](https://ipython.readthedocs.io/en/stable/interactive/magics.html)."
   ]
  },
  {
   "cell_type": "markdown",
   "metadata": {},
   "source": [
    "## Matplotlib\n",
    "\n",
    "To display plots inline in a notebook, we use the magic command:"
   ]
  },
  {
   "cell_type": "code",
   "execution_count": 1,
   "metadata": {},
   "outputs": [],
   "source": [
    "%matplotlib inline"
   ]
  },
  {
   "cell_type": "markdown",
   "metadata": {},
   "source": [
    "The full documentation for Matplotlib magic functions is [here](https://ipython.readthedocs.io/en/stable/interactive/magics.html#magic-matplotlib)."
   ]
  },
  {
   "cell_type": "markdown",
   "metadata": {},
   "source": [
    "## Timing programs\n",
    "\n",
    "We can use magic commands to time our programs. This is particularly useful when investigating the performance of\n",
    "different implementations."
   ]
  },
  {
   "cell_type": "markdown",
   "metadata": {},
   "source": [
    "### Simple timing\n",
    "\n",
    "The magic command [`%time`](https://ipython.readthedocs.io/en/stable/interactive/magics.html?highlight=timeit#magic-time) is used to time parts of a program.\n",
    "We just add\n",
    "```python\n",
    "%time\n",
    "```\n",
    "in front of the function call we wish to time, and the time taken will be displayed. Below is an example:"
   ]
  },
  {
   "cell_type": "code",
   "execution_count": 2,
   "metadata": {},
   "outputs": [
    {
     "name": "stdout",
     "output_type": "stream",
     "text": [
      "CPU times: user 4.86 ms, sys: 7 µs, total: 4.86 ms\n",
      "Wall time: 4.87 ms\n"
     ]
    }
   ],
   "source": [
    "def f(x):\n",
    "    s = \"\"\n",
    "    for i in range(x):\n",
    "        s += \" \"\n",
    "    return s\n",
    "\n",
    "%time p = f(100000)"
   ]
  },
  {
   "cell_type": "markdown",
   "metadata": {},
   "source": [
    "Usually we are interested in the '`Wall time`', which is the real (wall clock) time elapsed \n",
    "to run the function."
   ]
  },
  {
   "cell_type": "markdown",
   "metadata": {},
   "source": [
    "### Detailed timing\n",
    "\n",
    "Sometimes we want to get the time as a variable, for example to produce a plot of time versus problem size.\n",
    "In this case we use [`%timeit`](https://ipython.readthedocs.io/en/stable/interactive/magics.html?highlight=timeit#magic-timeit).\n",
    "\n",
    "`%timeit` has a number of options, including:\n",
    "\n",
    "- `-o`: Return a `TimeitResult` variable that we can query\n",
    "- `-q`: Quiet (supress output) \n",
    "- `-n`: Number of times to run code\n",
    "- `-r`: How many times to run `timeit`\n",
    "\n",
    "The return value can be queried in several ways. Below are examples."
   ]
  },
  {
   "cell_type": "code",
   "execution_count": 3,
   "metadata": {},
   "outputs": [
    {
     "name": "stdout",
     "output_type": "stream",
     "text": [
      "Best time: 0.05091275001177564\n",
      "50.3 ms ± 197 µs per loop (mean ± std. dev. of 2 runs, 3 loops each)\n",
      "Time for all runs: [0.1504333330085501, 0.15161504200659692]\n",
      "Time for best runs: 0.05014444433618337\n"
     ]
    }
   ],
   "source": [
    "# Problem size to test\n",
    "N = 1000000\n",
    "\n",
    "# Time the command 'p = f(N)' once, suppressing output (-q).\n",
    "t = %timeit -o -n1 -r1 -q p = f(N)\n",
    "\n",
    "# Get best (only) timing\n",
    "print(\"Best time: {}\".format(t.best))\n",
    "\n",
    "# Time the command 'p = f(N)' twice, calling three times each (not quiet)\n",
    "t = %timeit -o -n3 -r2 p = f(N)\n",
    "\n",
    "# Get results of all runs as a list (length will be 2 since we used -r2)\n",
    "print(\"Time for all runs: {}\".format(t.all_runs))\n",
    "\n",
    "# Best time will be 1/3 (since we used of lowest value in t.all_runs\n",
    "print(\"Time for best runs: {}\".format(t.best))"
   ]
  }
 ],
 "metadata": {
  "kernelspec": {
   "display_name": "Python 3 (ipykernel)",
   "language": "python",
   "name": "python3"
  },
  "language_info": {
   "codemirror_mode": {
    "name": "ipython",
    "version": 3
   },
   "file_extension": ".py",
   "mimetype": "text/x-python",
   "name": "python",
   "nbconvert_exporter": "python",
   "pygments_lexer": "ipython3",
   "version": "3.10.6"
  }
 },
 "nbformat": 4,
 "nbformat_minor": 4
}
