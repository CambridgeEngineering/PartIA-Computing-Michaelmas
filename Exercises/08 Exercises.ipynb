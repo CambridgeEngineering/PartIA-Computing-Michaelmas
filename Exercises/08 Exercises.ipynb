{
 "cells": [
  {
   "cell_type": "markdown",
   "metadata": {
    "nbgrader": {
     "grade": false,
     "grade_id": "cell-ea6c1e4c217d0584",
     "locked": true,
     "schema_version": 3,
     "solution": false
    }
   },
   "source": [
    "Import the NumPy and Matplotlib modules:"
   ]
  },
  {
   "cell_type": "code",
   "execution_count": null,
   "metadata": {
    "nbgrader": {
     "grade": false,
     "grade_id": "cell-851f16f7d1f512b6",
     "locked": true,
     "schema_version": 3,
     "solution": false
    }
   },
   "outputs": [],
   "source": [
    "%matplotlib inline\n",
    "import numpy as np\n",
    "import matplotlib.pyplot as plt"
   ]
  },
  {
   "cell_type": "markdown",
   "metadata": {
    "nbgrader": {
     "grade": false,
     "grade_id": "cell-2ae2b1794b3463d5",
     "locked": true,
     "schema_version": 3,
     "solution": false
    }
   },
   "source": [
    "## Exercise 08.1 (function plotting)\n",
    "\n",
    "Consider the function \n",
    "$$\n",
    "f(x) = e^{x/10} \\sin(\\omega_{1}x)\\sin(\\omega_{0}x)\n",
    "$$\n",
    "from $x = -4\\pi$ to $x = 4\\pi$."
   ]
  },
  {
   "cell_type": "markdown",
   "metadata": {
    "nbgrader": {
     "grade": false,
     "grade_id": "cell-7bbadc15f57cb62e",
     "locked": true,
     "schema_version": 3,
     "solution": false
    }
   },
   "source": [
    "(1) Plot the function when $\\omega_{0} = \\omega_{1} = 1$. Label the axes."
   ]
  },
  {
   "cell_type": "code",
   "execution_count": null,
   "metadata": {
    "nbgrader": {
     "grade": false,
     "grade_id": "cell-c220b6560241ee82",
     "locked": false,
     "schema_version": 3,
     "solution": true
    },
    "tags": []
   },
   "outputs": [],
   "source": [
    "num_points = 100\n",
    "x = np.linspace(-4 * np.pi, 4 * np.pi, num=num_points)\n",
    "\n",
    "f = np.exp(x / 10) * np.sin(x) * np.sin(x)\n",
    "..."
   ]
  },
  {
   "cell_type": "markdown",
   "metadata": {
    "nbgrader": {
     "grade": false,
     "grade_id": "cell-e4170686d6779807",
     "locked": true,
     "schema_version": 3,
     "solution": false
    }
   },
   "source": [
    "(2) Create an interactive plot with sliders for $\\omega_{0}$ and $\\omega_{1}$, varying from 0 to 2."
   ]
  },
  {
   "cell_type": "code",
   "execution_count": null,
   "metadata": {
    "nbgrader": {
     "grade": false,
     "grade_id": "cell-e6df2ed12d41ffa1",
     "locked": false,
     "schema_version": 3,
     "solution": true
    },
    "tags": []
   },
   "outputs": [],
   "source": [
    "from ipywidgets import interact\n",
    "\n",
    "..."
   ]
  },
  {
   "cell_type": "markdown",
   "metadata": {
    "nbgrader": {
     "grade": false,
     "grade_id": "cell-8fa19840a1969ff6",
     "locked": true,
     "schema_version": 3,
     "solution": false
    }
   },
   "source": [
    "## Exercise 08.2 (multiple function plotting)\n",
    "\n",
    "Plot the function \n",
    "\n",
    "$$\n",
    "f(x)  = \\frac{\\sin(x)}{x}\n",
    "$$\n",
    "\n",
    "from $x = -6\\pi$ to $x = 6\\pi$. Think carefully about which $x$ values you use when \n",
    "$x$ is close to zero.\n",
    "  \n",
    "Add to the above plot the graph of $1/ \\left| x \\right|$, and limit the range of the $y$ axis to 1 using\n",
    "`plt.ylim`. (Hint: use `np.abs(x)` to return the absolute values of each \n",
    "component of a NumPy array `x`.)"
   ]
  },
  {
   "cell_type": "code",
   "execution_count": null,
   "metadata": {
    "nbgrader": {
     "grade": false,
     "grade_id": "cell-4a1bc264d6e1a525",
     "locked": false,
     "schema_version": 3,
     "solution": true
    },
    "tags": []
   },
   "outputs": [],
   "source": [
    "..."
   ]
  },
  {
   "cell_type": "markdown",
   "metadata": {},
   "source": [
    "## Exercise 08.3 (demographics and interactive plotting)\n",
    "\n",
    "A county planning body has requested an interactive tool to visualise the population distribution in Cambridgeshire (by district) from 2021 to 2031 for different population growth rate scenarios in each district. It can be assumed that:\n",
    "\n",
    "- the growth rates are constant in each district;\n",
    "- the annual growth rate in any one district shall be between -10% and 10%.\n",
    "\n",
    "Building on the pie chart example with population data in the Activity notebook, create an interactive plot with:\n",
    "\n",
    "1. A slider for the year (from 2021 to 2031); and\n",
    "2. Sliders for the annual population growth for each district (in percentage), with an \n",
    "   initial value of zero for each district."
   ]
  },
  {
   "cell_type": "markdown",
   "metadata": {},
   "source": [
    "### Solution\n",
    "\n",
    "There are number of ways this exercise could be done, from very simple but not very robust with respect to changes in the order of the input data, to quite techical but robust with repsect to the order in which data is entered."
   ]
  },
  {
   "cell_type": "code",
   "execution_count": null,
   "metadata": {
    "nbgrader": {
     "grade": false,
     "grade_id": "cell-0ddfc4c579d42ad3",
     "locked": false,
     "schema_version": 3,
     "solution": true
    },
    "tags": []
   },
   "outputs": [],
   "source": [
    "# List of (district, population) data (in 2021)\n",
    "population_data = (('Cambridge City', 148500), \n",
    "                   ('East Cambridgeshire', 92630), \n",
    "                   ('Fenland', 107630), \n",
    "                   ('Huntingdonshire', 189440), \n",
    "                   ('South Cambridgeshire', 169800))\n",
    "\n",
    "..."
   ]
  },
  {
   "cell_type": "markdown",
   "metadata": {
    "nbgrader": {
     "grade": false,
     "grade_id": "cell-19fdd0fd825e2005",
     "locked": true,
     "schema_version": 3,
     "solution": false
    }
   },
   "source": [
    "## Exercise 08.4 (crime reports by location)\n",
    "\n",
    "### Background\n",
    "\n",
    "Your task is to produce a crime report data plot in the neighborhood of your college, by reported crime\n",
    "category.\n",
    "\n",
    "We can get crime data in the UK from the police data systems using what is known as a *REST API*,\n",
    "and turn the data into a `list` of Python dictionaries. Each entry in the list is a police report \n",
    "(an entry is a Python dictionary detailing the report).\n",
    "\n",
    "The first step is to import the modules we will be using:"
   ]
  },
  {
   "cell_type": "code",
   "execution_count": null,
   "metadata": {},
   "outputs": [],
   "source": [
    "!pip install requests"
   ]
  },
  {
   "cell_type": "code",
   "execution_count": null,
   "metadata": {
    "nbgrader": {
     "grade": false,
     "grade_id": "cell-93e17ffdff5e0ac9",
     "locked": true,
     "schema_version": 3,
     "solution": false
    }
   },
   "outputs": [],
   "source": [
    "import json\n",
    "import requests"
   ]
  },
  {
   "cell_type": "markdown",
   "metadata": {
    "nbgrader": {
     "grade": false,
     "grade_id": "cell-076189a984888933",
     "locked": true,
     "schema_version": 3,
     "solution": false
    }
   },
   "source": [
    "The service https://data.police.uk has an interface where we can add specific strings to the URL (web address) to define what data we are intersted in, and the police server will return our requested data. The format is\n",
    "\n",
    "    https://data.police.uk/api/crimes-street/all-crime?lat=52.629729&lng=-1.131592&date=2021-05\n",
    "    \n",
    "This return crimes reports within a one mile radius of the geographic coordinate point for the month `2021-05`.          \n",
    "\n",
    "Below we create this URL string to include a part of the Cambridge city centre. You can modify this for your own college or other areas of interest (Google Maps is a handy way to get the geographic coordinates)."
   ]
  },
  {
   "cell_type": "code",
   "execution_count": null,
   "metadata": {
    "nbgrader": {
     "grade": false,
     "grade_id": "cell-b59145a288b844f9",
     "locked": true,
     "schema_version": 3,
     "solution": false
    }
   },
   "outputs": [],
   "source": [
    "# A point in the Cambridge city centre (change this to your college)\n",
    "lat, long = 52.205277, 0.119117\n",
    "\n",
    "# year-month of interest\n",
    "year_month = '2022-06'\n",
    "\n",
    "# Construct request URL string\n",
    "url = f\"https://data.police.uk/api/crimes-street/all-crime?lat={lat}&lng={long}&date={year_month}\"\n",
    "\n",
    "# Fetch data from https://data.police.uk\n",
    "r = requests.get(url)\n",
    "\n",
    "# Check that data retrival was successful\n",
    "r.raise_for_status()"
   ]
  },
  {
   "cell_type": "markdown",
   "metadata": {
    "nbgrader": {
     "grade": false,
     "grade_id": "cell-4aca875e8d686608",
     "locked": true,
     "schema_version": 3,
     "solution": false
    }
   },
   "source": [
    "The following converts the fetched data into a `list` of Python dictionaries:"
   ]
  },
  {
   "cell_type": "code",
   "execution_count": null,
   "metadata": {},
   "outputs": [],
   "source": [
    "crime_data = r.json()"
   ]
  },
  {
   "cell_type": "markdown",
   "metadata": {},
   "source": [
    "To get an idea of how the data is arranged, we can look at the first report in the list. To make the displayed data easier to read, we use the 'pretty print' module `pprint`."
   ]
  },
  {
   "cell_type": "code",
   "execution_count": null,
   "metadata": {},
   "outputs": [],
   "source": [
    "import pprint\n",
    "if crime_data:\n",
    "    pprint.pprint(crime_data[0])"
   ]
  },
  {
   "cell_type": "markdown",
   "metadata": {},
   "source": [
    "Each dictionary object corresponds to a reported crime."
   ]
  },
  {
   "cell_type": "markdown",
   "metadata": {},
   "source": [
    "### Task\n",
    "\n",
    "Produce a bar chart of the number of reports in different categories. Run your program for different parts of Cambridge, starting with the area around your college, and for different months and years.\n",
    "\n",
    "#### Hints\n",
    "\n",
    "Create an empty dictionary, which will eventually map the report category to the number of incidents:"
   ]
  },
  {
   "cell_type": "code",
   "execution_count": null,
   "metadata": {},
   "outputs": [],
   "source": [
    "categories_freq = {}"
   ]
  },
  {
   "cell_type": "markdown",
   "metadata": {},
   "source": [
    "Iterate over all reports in the list, and extract the category string from each report. If the category string (the 'key') is already in the dictionary increment the associated counter. Otherwise add the key to the dictionary, and associate the value 1."
   ]
  },
  {
   "cell_type": "code",
   "execution_count": null,
   "metadata": {},
   "outputs": [],
   "source": [
    "# Iterate over all reports\n",
    "for report in crime_data:\n",
    "    # Get category type\n",
    "    category = report['category']\n",
    "    \n",
    "    if category in categories_freq:\n",
    "        # Increment counter here\n",
    "        pass  # This can be removed once the 'if' block has a body\n",
    "    else:\n",
    "        # Add category to dictionary here\n",
    "        pass  # This can be removed once the 'else' block has a body"
   ]
  },
  {
   "cell_type": "markdown",
   "metadata": {},
   "source": [
    "The crime categories are the dictionary keys, which can be extracted using\n",
    "```python\n",
    "list(categories_freq.keys())\n",
    "```"
   ]
  },
  {
   "cell_type": "markdown",
   "metadata": {},
   "source": [
    "When adding the tick labels (crime categories), it may be necessary to rotate the labels, e.g.:\n",
    "```python\n",
    "plt.xticks(x_pos, categories, rotation='vertical')\n",
    "```"
   ]
  },
  {
   "cell_type": "markdown",
   "metadata": {},
   "source": [
    "### Extensions (optional)\n",
    "\n",
    "\n",
    "1. Probe the retrieved data to build a set of all crime categories in the data set.\n",
    "2. Explore the temporal (time) aspect of the data. Thinks of ways to represent the change in reported incident \n",
    "   types over time.\n",
    "3. Explore what other data you can retriev from https://data.police.uk/docs/."
   ]
  },
  {
   "cell_type": "markdown",
   "metadata": {},
   "source": [
    "### Solution\n",
    "\n",
    "There are many ways this exercise could be programmed, and there is some choice in data structures.\n",
    "\n",
    "Build (a) a list of crime categories and (b) the number of reports in each category:"
   ]
  },
  {
   "cell_type": "code",
   "execution_count": null,
   "metadata": {
    "nbgrader": {
     "grade": false,
     "grade_id": "cell-46ab1ae5cb776dfd",
     "locked": false,
     "schema_version": 3,
     "solution": true
    },
    "tags": []
   },
   "outputs": [],
   "source": [
    "# Empty dictionary\n",
    "categories_freq = {}\n",
    "\n",
    "..."
   ]
  },
  {
   "cell_type": "markdown",
   "metadata": {},
   "source": [
    "Produce a bar chart:"
   ]
  },
  {
   "cell_type": "code",
   "execution_count": null,
   "metadata": {
    "nbgrader": {
     "grade": false,
     "grade_id": "cell-97e738a80f71d412",
     "locked": false,
     "schema_version": 3,
     "solution": true
    },
    "tags": []
   },
   "outputs": [],
   "source": [
    "# Create an array with the position of each bar along the x-axis\n",
    "x_pos = np.arange(len(categories_freq))\n",
    "\n",
    "..."
   ]
  }
 ],
 "metadata": {
  "celltoolbar": "Create Assignment",
  "kernelspec": {
   "display_name": "Python 3 (ipykernel)",
   "language": "python",
   "name": "python3"
  },
  "language_info": {
   "codemirror_mode": {
    "name": "ipython",
    "version": 3
   },
   "file_extension": ".py",
   "mimetype": "text/x-python",
   "name": "python",
   "nbconvert_exporter": "python",
   "pygments_lexer": "ipython3",
   "version": "3.10.6"
  },
  "otter": {
   "OK_FORMAT": true,
   "assignment_name": "Exercises 8",
   "tests": {}
  },
  "widgets": {
   "state": {
    "248f5fcae0454540b7cd3ac136ba81ad": {
     "views": [
      {
       "cell_index": 11
      }
     ]
    },
    "383c4f93cc414843afd9d350dad99c75": {
     "views": [
      {
       "cell_index": 5
      }
     ]
    }
   },
   "version": "1.2.0"
  }
 },
 "nbformat": 4,
 "nbformat_minor": 4
}
