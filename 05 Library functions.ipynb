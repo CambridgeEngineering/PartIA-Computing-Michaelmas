{
 "cells": [
  {
   "cell_type": "markdown",
   "metadata": {},
   "source": [
    "# Introduction\n",
    "\n",
    "A feature of modern programming languages is an extensive library of standard functions. This means that we can make use of standard, well-tested and optimised functions\n",
    "for performing common tasks rather than writing our own. This makes our programs shorter, of higher quality, and in most cases faster.\n",
    "\n",
    "\n",
    "\n",
    "## Objectives\n",
    "\n",
    "- Introduce use of standard library functions\n",
    "- Importing and using modules\n",
    "- Introduction to namespaces\n",
    "- Print formatting of floats"
   ]
  },
  {
   "cell_type": "markdown",
   "metadata": {},
   "source": [
    "# The standard library\n",
    "\n",
    "You have already used some standard library types and functions. In previous activities we have used built-in types like `string` and `float`, and the function `abs` for absolute value. We have made use of the standard library function `print` to display to the screen.\n",
    "\n",
    "Python has a large standard library. To organise it, most functionality is arranged into 'modules', with each module providing a range of related functions. Before you program a function, check if there is a library function that can perform the task. The Python standard library is documented at https://docs.python.org/3/library/.\n",
    "Search engines are a good way to find library functions, e.g. entering \"Is there a Python function to compute the hyperbolic tangent of a complex number\" into a search engine will take you to the function `cmath.tanh`. Try this link: http://bfy.tw/7aMc."
   ]
  },
  {
   "cell_type": "markdown",
   "metadata": {},
   "source": [
    "# Other libraries\n",
    "\n",
    "The standard library tools are general purpose and will be available in any Python environment.\n",
    "Specialised tools are usually made available in other libraries (modules). There is a huge range of Python libraries available for specialised problems. We have already used some parts\n",
    "of NumPy (http://www.numpy.org/), which is a specialised library for numerical computation. \n",
    "It provides much the same functionality as MATLAB. \n",
    "\n",
    "The simplest way to install a non-standard library is using the command `pip`. From the command line, the library NumPy is installed using:\n",
    "\n",
    "    pip install numpy\n",
    "    \n",
    "and from inside a Jupyter notebook use:\n",
    "\n",
    "    !pip install numpy\n",
    "\n",
    "NumPy is so commonly used it is probably already installed on computers you will be using.\n",
    "You will see `pip` being used in some later notebooks to install special-purpose tools.\n",
    "\n",
    "When developing programs outside of learning exercises,\n",
    "if there is a no standard library module for a problem you are trying to solve, \n",
    "search online for a module before implementing your own."
   ]
  },
  {
   "cell_type": "markdown",
   "metadata": {},
   "source": [
    "# Using library functions: `math` example\n",
    "\n",
    "To use a function from a module we need to make it available in our program. \n",
    "This is called 'importing'. We have done this in previous notebooks with the `math` module, but without explanation. The process is explained below.\n",
    "\n",
    "The `math` module (https://docs.python.org/3/library/math.html) provides a wide range of mathematical functions. For example, to compute the square root of a number, we do:"
   ]
  },
  {
   "cell_type": "code",
   "execution_count": 1,
   "metadata": {},
   "outputs": [
    {
     "name": "stdout",
     "output_type": "stream",
     "text": [
      "1.4142135623730951\n"
     ]
    }
   ],
   "source": [
    "import math\n",
    "\n",
    "x = 2.0\n",
    "x = math.sqrt(x)\n",
    "print(x)"
   ]
  },
  {
   "cell_type": "markdown",
   "metadata": {},
   "source": [
    "Dissecting the above code block, the line \n",
    "```python\n",
    "import math \n",
    "```\n",
    "makes the math module available in our program. It is good style to put all `import` statements at the top of a file (or at the top of a cell when using a Jupyter notebook). \n",
    "\n",
    "The function call\n",
    "```python\n",
    "x = math.sqrt(x)\n",
    "```    \n",
    "says 'use the `sqrt` function from the `math` module to compute the square root'.\n",
    "\n",
    "By prefixing `sqrt` with `math`, we are using a *namespace* (which in this case is `math`).\n",
    "This makes clear precisely which `sqrt` function we want to use - there could be more than one `sqrt` function available.\n",
    "\n",
    "> *Namespaces:* The prefix '`math`' indicates which '`sqrt`' function we want to use. This\n",
    "might seem pedantic, but in practice there are often different algorithms for performing the same or similar  operation. They might vary in speed and accuracy. In some applications we might need an accurate (but slow)  method for computing the square root, while for other applications we might need speed with a compromise on accuracy. But, if two functions have the same name and are not distinguished by a name space, we have a *name clash*.\n",
    "\n",
    "> In a large program, two developers might choose the same name for two functions that perform similar but slightly different tasks. If these functions are in different modules, there will be no name clash since the module name provides a 'namespace'  - a prefix that provides a distinction between the two functions. Namespaces are extremely helpful for multi-author programs. A weakness of older languages, like C and Fortran, is that they do not support namespaces. Most modern languages do support namespaces.  \n",
    "\n",
    "We can import specific functions from a module, e.g. importing only the `sqrt` function:"
   ]
  },
  {
   "cell_type": "code",
   "execution_count": 2,
   "metadata": {},
   "outputs": [
    {
     "name": "stdout",
     "output_type": "stream",
     "text": [
      "1.4142135623730951\n"
     ]
    }
   ],
   "source": [
    "from math import sqrt\n",
    "\n",
    "x = 2.0\n",
    "x = sqrt(x)\n",
    "print(x)"
   ]
  },
  {
   "cell_type": "markdown",
   "metadata": {},
   "source": [
    "This way, we are importing (making available) only the `sqrt` function from the `math` module (the `math` module has a large number of functions).\n",
    "\n",
    "We can even choose to re-name functions that we import:"
   ]
  },
  {
   "cell_type": "code",
   "execution_count": 3,
   "metadata": {},
   "outputs": [
    {
     "name": "stdout",
     "output_type": "stream",
     "text": [
      "1.4142135623730951\n"
     ]
    }
   ],
   "source": [
    "from math import sqrt as some_math_function \n",
    "\n",
    "x = 2.0\n",
    "x = some_math_function(x)\n",
    "print(x)"
   ]
  },
  {
   "cell_type": "markdown",
   "metadata": {},
   "source": [
    "Renaming functions at import can be helpful to keep code short, and we will see below it can be useful for switching between different functions.\n",
    "However, the above choice of name is very poor practice - the name '`some_math_function`' is not descriptive.\n",
    "Below is a more sensible example."
   ]
  },
  {
   "cell_type": "markdown",
   "metadata": {},
   "source": [
    "Say we program a function that computes the roots of a quadratic function using the quadratic formula:"
   ]
  },
  {
   "cell_type": "code",
   "execution_count": 4,
   "metadata": {},
   "outputs": [
    {
     "name": "stdout",
     "output_type": "stream",
     "text": [
      "-0.10435607626104004 -2.3956439237389597\n"
     ]
    }
   ],
   "source": [
    "from math import sqrt as square_root\n",
    "\n",
    "def compute_roots(a, b, c):\n",
    "    \"Compute roots of the polynomial f(x) = ax^2 + bx + c\"\n",
    "    \n",
    "    root0 = (-b + square_root(b*b - 4*a*c))/(2*a)\n",
    "    root1 = (-b - square_root(b*b - 4*a*c))/(2*a)\n",
    "    \n",
    "    return root0, root1\n",
    "\n",
    "# Compute roots of f = 4x^2 + 10x + 1\n",
    "root0, root1 = compute_roots(4, 10, 1)\n",
    "print(root0, root1)"
   ]
  },
  {
   "cell_type": "markdown",
   "metadata": {},
   "source": [
    "The above is fine as long as the polynomial has real roots. However, the function `math.sqrt` \n",
    "will give an error (technically, it will 'raise an exception') if a negative argument is passed to it. This is to stop naive programmers from making silly mistakes.\n",
    "\n",
    "We do know about complex numbers, so we want to compute complex roots. The Python module `cmath` provides functions for complex numbers. If we were to use `cmath.sqrt` to compute the square root, our function would support complex roots. We do this by importing the `cmath.sqrt` functions as `square_root`:"
   ]
  },
  {
   "cell_type": "code",
   "execution_count": 5,
   "metadata": {},
   "outputs": [
    {
     "name": "stdout",
     "output_type": "stream",
     "text": [
      "(-0.125+0.09682458365518543j) (-0.125-0.09682458365518543j)\n",
      "(-0.10435607626104004+0j) (-2.3956439237389597+0j)\n"
     ]
    }
   ],
   "source": [
    "# Use the function from cmath as square_root to compute the square root\n",
    "# (this will replace the previously imported sqrt function)\n",
    "from cmath import sqrt as square_root\n",
    "\n",
    "# Compute roots (roots will be complex in this case)\n",
    "root0, root1 = compute_roots(40, 10, 1)\n",
    "print(root0, root1)\n",
    "\n",
    "# Compute roots (roots will be real in this case, but cmath.sqrt always returns a complex type)\n",
    "root0, root1 = compute_roots(4, 10, 1)\n",
    "print(root0, root1)"
   ]
  },
  {
   "cell_type": "markdown",
   "metadata": {},
   "source": [
    "The function now works for all cases because `square_root` is now using `cmath.sqrt`. Note that `cmath.sqrt` always returns a complex number type, even when the complex part is zero."
   ]
  },
  {
   "cell_type": "markdown",
   "metadata": {},
   "source": [
    "# String functions and string formatting\n",
    "\n",
    "A standard function that we have used since the beginning is '`print`'. This function turns arguments into a string and displays the string to the screen. So far, we have only printed simple variables and relied mostly on the default conversions to a string for printing to the screen (the exception was printing the floating point representation of 0.1, where we needed to specify the number of significant digits to see the inexact representation in binary)."
   ]
  },
  {
   "cell_type": "markdown",
   "metadata": {},
   "source": [
    "## Formatting\n",
    "\n",
    "We can control how strings are formatted and displayed. Below is an example of inserting a string variable and a number variable into a string of characters:"
   ]
  },
  {
   "cell_type": "code",
   "execution_count": 6,
   "metadata": {},
   "outputs": [
    {
     "name": "stdout",
     "output_type": "stream",
     "text": [
      "My name is Amber and I am 19 years old.\n",
      "My name is Ashley and I am 21 years old.\n"
     ]
    }
   ],
   "source": [
    "# Format a string with name and age\n",
    "name = \"Amber\"\n",
    "age = 19\n",
    "text_string = \"My name is {} and I am {} years old.\".format(name, age)\n",
    "\n",
    "# Print to screen \n",
    "print(text_string)\n",
    "\n",
    "# Short-cut for printing without assignment\n",
    "name = \"Ashley\"\n",
    "age = 21\n",
    "print(\"My name is {} and I am {} years old.\".format(name, age))"
   ]
  },
  {
   "cell_type": "markdown",
   "metadata": {},
   "source": [
    "For floating-point numbers, we often want to control the formatting, and in particular the number of significant figures displayed. Using the display of $\\pi$ as an example: "
   ]
  },
  {
   "cell_type": "code",
   "execution_count": 7,
   "metadata": {},
   "outputs": [
    {
     "name": "stdout",
     "output_type": "stream",
     "text": [
      "The value of π using the default formatting is: 3.141592653589793\n",
      "The value of π to 5 significant figures is: 3.1416\n",
      "The value of π to 8 significant figures is: 3.1415927\n",
      "The value of π to 20 significant figures and using scientific notation is: 3.14159265358979311600e+00\n"
     ]
    }
   ],
   "source": [
    "# Import math module to get access to math.pi\n",
    "import math\n",
    "\n",
    "# Default formatting\n",
    "print(\"The value of π using the default formatting is: {}\".format(math.pi))\n",
    "\n",
    "# Control number of significant figures in formatting\n",
    "print(\"The value of π to 5 significant figures is: {:.5}\".format(math.pi))\n",
    "print(\"The value of π to 8 significant figures is: {:.8}\".format(math.pi))\n",
    "print(\"The value of π to 20 significant figures and using scientific notation is: {:.20e}\".format(math.pi))"
   ]
  },
  {
   "cell_type": "markdown",
   "metadata": {},
   "source": [
    "There are many more ways in which float formatting can be controlled - search online if you want to format a float in a particular way.  "
   ]
  },
  {
   "cell_type": "markdown",
   "metadata": {},
   "source": [
    "# Module example: parallel processing\n",
    "\n",
    "Standard modules can make very technical problems simpler. An example is parallel processing.\n",
    "\n",
    "The majority of CPUs - from phones to supercomputers - now have CPUs with multiple cores, with each core performing computations. To benefit from the multiple cores, we need to compute in *parallel*.\n",
    "A 'standard' program performs tasks in order, and in this case only one core will be utilised and the rest will\n",
    "remain idle. To get the best performance from the hardware, we need to compute in parallel. That is, we perform multiple tasks at the same time. \n",
    "\n",
    "Parallel processing is an enormous topic on its own, but we can touch upon it here because we have standard libraries\n",
    "that make it easy to use. Managing parallel tasks at a low-level is extremely technical, but standard libraries can make it easy. We will use the `multiprocessing` module, and use it to sort lists of numbers concurrently.\n",
    "\n",
    "We start by looking at how to generate a list of random integers using the `random` module. The following code \n",
    "creates a list (more on lists in the following notebook) of 10 random integers in the range 0 to 100 (not including 100):"
   ]
  },
  {
   "cell_type": "code",
   "execution_count": 8,
   "metadata": {},
   "outputs": [
    {
     "name": "stdout",
     "output_type": "stream",
     "text": [
      "[30, 9, 78, 59, 85, 81, 67, 97, 11, 91]\n"
     ]
    }
   ],
   "source": [
    "import random\n",
    "x = random.sample(range(0, 100), 10)\n",
    "print(x)"
   ]
  },
  {
   "cell_type": "markdown",
   "metadata": {},
   "source": [
    "To create a sorted list, we used the built-in function `sorted`:"
   ]
  },
  {
   "cell_type": "code",
   "execution_count": 9,
   "metadata": {},
   "outputs": [
    {
     "name": "stdout",
     "output_type": "stream",
     "text": [
      "[9, 11, 30, 59, 67, 78, 81, 85, 91, 97]\n"
     ]
    }
   ],
   "source": [
    "y = sorted(x)\n",
    "print(y)"
   ]
  },
  {
   "cell_type": "markdown",
   "metadata": {},
   "source": [
    "Now, if we need to sort multiple different lists, we could sort the lists one after the other, or \n",
    "we could sort several lists at the same time (in parallel). Our operating system will then manage the dispatch \n",
    "of the sorting task to different processor cores. Before seeing how to do this, we implement a function to perform the sorting:"
   ]
  },
  {
   "cell_type": "code",
   "execution_count": 10,
   "metadata": {},
   "outputs": [],
   "source": [
    "import multiprocessing\n",
    "import random\n",
    "\n",
    "def mysort(N):\n",
    "    \"Create a list of random numbers of length N, and return a sorted list\"\n",
    "\n",
    "    # Create random list \n",
    "    x = random.sample(range(0, N), N) \n",
    "\n",
    "    # Print process identifier (just out of interest)\n",
    "    print(\"Process id: {}\".format(multiprocessing.current_process()))\n",
    "    \n",
    "    # Return sorted list of numbers\n",
    "    return sorted(x)"
   ]
  },
  {
   "cell_type": "markdown",
   "metadata": {},
   "source": [
    "To create the sorted lists, making available three processes (threads), we use:"
   ]
  },
  {
   "cell_type": "code",
   "execution_count": 11,
   "metadata": {},
   "outputs": [
    {
     "name": "stdout",
     "output_type": "stream",
     "text": [
      "Process id: <ForkProcess(ForkPoolWorker-3, started daemon)>\n",
      "Process id: <ForkProcess(ForkPoolWorker-2, started daemon)>\n",
      "Process id: <ForkProcess(ForkPoolWorker-1, started daemon)>\n"
     ]
    }
   ],
   "source": [
    "N = 20000\n",
    "with multiprocessing.Pool(processes=3) as p:\n",
    "    p.map(mysort, [N, N, N])  # Call function mysort three times"
   ]
  },
  {
   "cell_type": "markdown",
   "metadata": {},
   "source": [
    "We see from the output that three different processes have worked on our problem - one for each sorting task.\n",
    "\n",
    "We use parallel processing to make computations faster. Let's time our computation using different numbers\n",
    "of processes to see how it affects performance. \n",
    "To perform the timing, we first encapsulate our problem in a function:"
   ]
  },
  {
   "cell_type": "code",
   "execution_count": 12,
   "metadata": {},
   "outputs": [],
   "source": [
    "def parallel_sort(N, num_proc):\n",
    "    \"Create three lists of random numbers (each of length N) using num_proc processes\"\n",
    "    with multiprocessing.Pool(processes=num_proc) as p:\n",
    "        p.map(mysort, [N, N, N])"
   ]
  },
  {
   "cell_type": "markdown",
   "metadata": {},
   "source": [
    "Using the magic command '[`%time`](Notebook%20tips.ipynb#Simple-timing)', we time the sorting using just one process (the one process sorts the lists one after the other):"
   ]
  },
  {
   "cell_type": "code",
   "execution_count": 13,
   "metadata": {},
   "outputs": [
    {
     "name": "stdout",
     "output_type": "stream",
     "text": [
      "Process id: <ForkProcess(ForkPoolWorker-4, started daemon)>\n",
      "Process id: <ForkProcess(ForkPoolWorker-4, started daemon)>\n",
      "Process id: <ForkProcess(ForkPoolWorker-4, started daemon)>\n",
      "CPU times: user 56.6 ms, sys: 34 ms, total: 90.6 ms\n",
      "Wall time: 1.82 s\n"
     ]
    }
   ],
   "source": [
    "N = 500000\n",
    "%time parallel_sort(N, 1)    "
   ]
  },
  {
   "cell_type": "markdown",
   "metadata": {},
   "source": [
    "We see from '`Process id`' that the same process worked on all three lists.\n",
    "\n",
    "We now try with up to 4 processes (there are only three lists to sort, so only three will be used):"
   ]
  },
  {
   "cell_type": "code",
   "execution_count": 14,
   "metadata": {},
   "outputs": [
    {
     "name": "stdout",
     "output_type": "stream",
     "text": [
      "Process id: <ForkProcess(ForkPoolWorker-5, started daemon)>\n",
      "Process id: <ForkProcess(ForkPoolWorker-6, started daemon)>\n",
      "Process id: <ForkProcess(ForkPoolWorker-8, started daemon)>\n",
      "CPU times: user 46.9 ms, sys: 46.8 ms, total: 93.7 ms\n",
      "Wall time: 832 ms\n"
     ]
    }
   ],
   "source": [
    "%time parallel_sort(N, 4)    "
   ]
  },
  {
   "cell_type": "markdown",
   "metadata": {},
   "source": [
    "We see from `Process id` that three different processes have worked on the lists. The parallel execution should be faster (this will depend on the hardware)."
   ]
  },
  {
   "cell_type": "markdown",
   "metadata": {},
   "source": [
    "# Exercises\n",
    "\n",
    "Complete now the [05 Exercises](Exercises/05%20Exercises.ipynb) notebook."
   ]
  }
 ],
 "metadata": {
  "kernelspec": {
   "display_name": "Python 3",
   "language": "python",
   "name": "python3"
  },
  "language_info": {
   "codemirror_mode": {
    "name": "ipython",
    "version": 3
   },
   "file_extension": ".py",
   "mimetype": "text/x-python",
   "name": "python",
   "nbconvert_exporter": "python",
   "pygments_lexer": "ipython3",
   "version": "3.6.6"
  }
 },
 "nbformat": 4,
 "nbformat_minor": 1
}
