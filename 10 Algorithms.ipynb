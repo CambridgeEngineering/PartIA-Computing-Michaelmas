{
 "cells": [
  {
   "cell_type": "markdown",
   "metadata": {},
   "source": [
    "# Algorithms\n",
    "\n",
    "## Introduction\n",
    "\n",
    "An algorithm is a step-by-step structured 'recipe' of calculations (operations) for solving a problem. \n",
    "Algorithms are important in computing because this is what computers do - perform structured \n",
    "sets of operations. To solve a problem using a computer we need an *algorithm*.\n",
    "\n",
    "Our computer programs are the expression of algorithms in a computing language.\n",
    "Almost everything you have done so far has been an algorithm. Now we want to identify\n",
    "more carefully some algorithms, and how we can describe them. This is a step towards \n",
    "*algorithmic complexity*, which is in the next notebook.\n",
    "\n",
    "\n",
    "### Characterising algorithms\n",
    "\n",
    "There is usually more than one way to solve a problem, hence there will\n",
    "usually be more than one algorithm to solve a given problem. Some algorithms may be fast but\n",
    "inaccurate, others slow and accurate; some can be fast but use a lot of memory, while others may be \n",
    "low-memory but slower. Some will be simple to program, others much harder.\n",
    "We will look more at characterising the performance of algorithms in the next notebook on \n",
    "*algorithmic complexity*.  For now we will focus on turning descriptions of algorithms \n",
    "into computer implementations.\n",
    "\n",
    "\n",
    "### Objectives\n",
    "\n",
    "- Develop appreciation of what an algorithm is\n",
    "- Learn to create an algorithm to solve a problem\n",
    "- Use *pseudocode* to describe algorithms"
   ]
  },
  {
   "cell_type": "markdown",
   "metadata": {},
   "source": [
    "We will be using NumPy is this notebook, so we import it now:"
   ]
  },
  {
   "cell_type": "code",
   "execution_count": 1,
   "metadata": {},
   "outputs": [],
   "source": [
    "import numpy as np"
   ]
  },
  {
   "cell_type": "markdown",
   "metadata": {},
   "source": [
    "## Pseudocode\n",
    "\n",
    "*Pseudocode* is commonly used to express algorithms. It involves presenting an algorithm in a way that\n",
    "resembles a high-level programming language, like Python. Pseudocode is not formally defined, but uses \n",
    "control statements and loops that you are now familiar with.\n",
    "\n",
    "In Activity 02, you worked on implementing a bisection algorithm. A presentation of a bisection algorithm\n",
    "in pseudocode can be found at https://en.wikipedia.org/wiki/Bisection_method#Algorithm, which we reproduce here:\n",
    "\n",
    "```\n",
    "INPUT: Function f, endpoint values a, b, tolerance TOL, maximum iterations NMAX\n",
    "CONDITIONS: a < b, either f(a) < 0 and f(b) > 0 or f(a) > 0 and f(b) < 0\n",
    "OUTPUT: value which differs from a root of f(x)=0 by less than TOL \n",
    "\n",
    "N ← 1\n",
    "While N ≤ NMAX # limit iterations to prevent infinite loop\n",
    "  c ← (a + b)/2 # new midpoint\n",
    "  If f(c) = 0 or (b – a)/2 < TOL then # solution found\n",
    "    Output(c)\n",
    "    Stop\n",
    "  EndIf\n",
    "  N ← N + 1 # increment step counter\n",
    "  If sign(f(c)) = sign(f(a)) then a ← c else b ← c # new interval\n",
    "EndWhile\n",
    "Output(\"Method failed.\") # max number of steps exceeded\n",
    "```\n",
    "\n",
    "Python syntax is close to a form of pseudocode, so we will generally present algorithms using Python syntax.\n",
    "From an algorithm in pseudocode it is usually straightforward to produce a working Python program."
   ]
  },
  {
   "cell_type": "markdown",
   "metadata": {},
   "source": [
    "## Search\n",
    "\n",
    "Some classic algorithms involve searching in a list.\n",
    "Often, we need to know if a value exists in a list. We have already seen something like this with the Python built-in types, `dict` and `list` where we can say '`x in y`', e.g.:"
   ]
  },
  {
   "cell_type": "code",
   "execution_count": 2,
   "metadata": {},
   "outputs": [
    {
     "name": "stdout",
     "output_type": "stream",
     "text": [
      "True\n",
      "False\n"
     ]
    }
   ],
   "source": [
    "# Create a list\n",
    "y = [4, 2, 1, 3, 5]\n",
    "\n",
    "# Check if '2' is in the list y\n",
    "print(2 in y)\n",
    "\n",
    "# Check if '2.5' is in the list y\n",
    "print(2.5 in y)"
   ]
  },
  {
   "cell_type": "markdown",
   "metadata": {},
   "source": [
    "Behind this syntax is an *algorithm* for performing the search. There are different ways to search, and the speed of a search can depend heavily on the algorithm. The speed of a given algorithm for a problem can depend on the nature of the data, how it is stored, and how many search operations we want to perform."
   ]
  },
  {
   "cell_type": "markdown",
   "metadata": {},
   "source": [
    "### Linear search\n",
    "\n",
    "The simplest search is linear search, where we iterate over all entries in a list/tuple/dictionary, etc, and check for the value(s) we are looking for. Here is an example of searching if a given colour is in a list:"
   ]
  },
  {
   "cell_type": "code",
   "execution_count": 3,
   "metadata": {},
   "outputs": [
    {
     "name": "stdout",
     "output_type": "stream",
     "text": [
      "True\n",
      "False\n"
     ]
    }
   ],
   "source": [
    "def linear_search(x, val):\n",
    "    \"Return True if val is in x, otherwise return False\"\n",
    "    for item in x:\n",
    "        if item == val:\n",
    "            return True\n",
    "    return False\n",
    "\n",
    "my_colours = [\"yellow\", \"green\", \"blue\", \"orange\", \"purple\"]\n",
    "\n",
    "print(linear_search(my_colours, \"blue\"))\n",
    "print(linear_search(my_colours, \"black\"))"
   ]
  },
  {
   "cell_type": "markdown",
   "metadata": {},
   "source": [
    "This is a very simple algorithm. It is generally fast for short lists, but might not be the best approach for long lists."
   ]
  },
  {
   "cell_type": "markdown",
   "metadata": {},
   "source": [
    "### Binary search\n",
    "\n",
    "Linear search does not place any requirements on the order of the data, i.e. on the list we are searching. \n",
    "However, if we have a list that is *sorted*, such as a list of names sorted into alphabetical order,\n",
    "rather than using a linear search we can do something cleverer and perform a *binary search* (https://en.wikipedia.org/wiki/Binary_search_algorithm).\n",
    "\n",
    "Binary search has similarities to bisection, that we have seen before. If we want to check if `y` is in \n",
    "the *sorted* array `x` of length `n`, we:\n",
    "\n",
    "1. Check that the search value `y` is possibly in the array by checking that it lies between \n",
    "   the end values of `x`.\n",
    "1. Set lower bound position to `0` and upper bound position to `n-1`\n",
    "1. Evaluate the midpoint value of `x` , and determine if `y` lies to the left or right of \n",
    "   the mid-point.\n",
    "   - if `y < x[mid]`, then set the upper bound position equal to the midpoint position `-1` \n",
    "   - else if `y > x[mid]`, then set the lower bound position equal to the midpoint position `+1`  \n",
    "   - else if `y == x[mid]`, then we have found `y`, so return position `mid`\n",
    "   - else if upper bound position < lower bound position, then `y` cannot be in the list, so return `None`"
   ]
  },
  {
   "cell_type": "markdown",
   "metadata": {},
   "source": [
    "#### Example\n",
    "\n",
    "Consider the ordered array `x` of length 9:\n",
    "\n",
    "| position  | 0 | 1 | 2 | 3 | 4  | 5  | 6  |  7 | 8  |\n",
    "|-----------|---|---|---|---|----|----|----|----|-----\n",
    "| value     | 2 | 5 | 7 | 8 | 32 | 34 | 47 | 52 | 61 |\n",
    "\n",
    "We want to check if 52 is in the array, and if so in which position. The process is as follows: \n",
    "\n",
    "1. `upper=8, lower=0 -> midpoint=(8 + 0)//2 = 4` \n",
    "2. `x[8 (upper)]=61, x[0 (lower)]=2, x[4 (midpoint)]= 32 -> upper=8, lower=4+1=5, midpoint=(8+5)//2=6`  \n",
    "3. `x[8 (upper)]=61, x[5 (lower)]=34, x[6 (midpoint)]= 47 -> upper=8, lower=6+1=7` \n",
    "4. `x[8 (upper)]=61, x[7 (lower)]=52 -> return 7 (position of 52)` "
   ]
  },
  {
   "cell_type": "markdown",
   "metadata": {},
   "source": [
    "#### Implementation\n",
    "\n",
    "A Python implementation of the binary sort algorithm is below. When implementing an algorithm, particular care needs to be taken with initialising values, updating at the appropriate points, and avoiding infinite loops."
   ]
  },
  {
   "cell_type": "code",
   "execution_count": 4,
   "metadata": {},
   "outputs": [],
   "source": [
    "def binary_search(x, y):\n",
    "    \"Peform binary search on x to find y. If found returns position, otherwise returns None.\"\n",
    "\n",
    "    # Intialise end point indices\n",
    "    lower, upper = 0, len(x) - 1\n",
    "\n",
    "    # If value is outside of interval, return None \n",
    "    if y < x[lower] or y > x[upper]:\n",
    "        return None\n",
    "\n",
    "    # Perform binary search\n",
    "    while True:\n",
    "                \n",
    "        # Compute midpoint index (integer division)\n",
    "        midpoint = (upper + lower)//2\n",
    "\n",
    "        # Check which side of x[midpoint] y lies, and update midpoint accordingly\n",
    "        if y < x[midpoint]:\n",
    "            upper = midpoint - 1\n",
    "        elif y > x[midpoint]:\n",
    "            lower = midpoint + 1\n",
    "        elif y == x[midpoint]:  # found, so return\n",
    "            return midpoint\n",
    "       \n",
    "        # In this case val is not in list (return None)\n",
    "        if upper < lower:\n",
    "            return None"
   ]
  },
  {
   "cell_type": "markdown",
   "metadata": {},
   "source": [
    "We now add some tests to check that our algorithm is functioning correctly:"
   ]
  },
  {
   "cell_type": "code",
   "execution_count": 5,
   "metadata": {},
   "outputs": [
    {
     "name": "stdout",
     "output_type": "stream",
     "text": [
      "[-19 -15 -12  -8  -7  -6  -4   1   2   8   9  15  15  18  22]\n"
     ]
    }
   ],
   "source": [
    "# Generate an array of integers and sort\n",
    "x = np.array([1,  -15, -12,  -8,  -7,  -6,  -4 ,  2,   8,   9,  15,  15,  -19, 18,  22])\n",
    "x.sort()\n",
    "print(x)\n",
    "\n",
    "# Test for values we know are in the array\n",
    "assert binary_search(x, x[0]) == 0 \n",
    "assert binary_search(x, x[2]) == 2 \n",
    "assert binary_search(x, x[7]) == 7 \n",
    "assert binary_search(x, x[14]) == 14 \n",
    "\n",
    "# Test for values we know are outside the array interval\n",
    "assert binary_search(x, -21) == None \n",
    "assert binary_search(x, 38) == None \n",
    "\n",
    "# Test for values we know are not in the array but are inside the array interval\n",
    "assert binary_search(x, -11) == None\n",
    "assert binary_search(x, 12) == None\n",
    "assert binary_search(x, 21) == None"
   ]
  },
  {
   "cell_type": "markdown",
   "metadata": {},
   "source": [
    "For large sorted arrays, binary search is much faster than linear search. We will look at this more in the next notebook. It does however rely on having a sorted array. If an array is unordered and we need to do a large number of searches, rather than using linear search it may be more efficient to first sort the array, and then use binary search."
   ]
  },
  {
   "cell_type": "markdown",
   "metadata": {},
   "source": [
    "## Sorting\n",
    "\n",
    "Another classic algorithmic problem is sorting. There are numerous sort algorithms listed at https://en.wikipedia.org/wiki/Sorting_algorithm. The reason for multiple algorithms is that there is no universal *best*. The appropriate algorithm depends on the problem - maybe the size of the problem,\n",
    "any pre-existing (partial) ordering, or even the CPU or memory (RAM) type.\n",
    "\n",
    "We will consider two classic sorting algorithms - bubble sort and quicksort. Bubble sort is educational, \n",
    "and quicksort is widely used in practice."
   ]
  },
  {
   "cell_type": "markdown",
   "metadata": {},
   "source": [
    "### Bubble Sort\n",
    "\n",
    "One of the simplest sorting algorithms is bubble sort. We just iterate over values in an array, and if any neighbours are in the wrong order we swap them. To sort the entire list, we have to repeat this process many times. \n",
    "\n",
    "Here is a pseudocode implementation of bubble sort:\n",
    "\n",
    "```\n",
    "procedure bubbleSort( A : list of sortable items )\n",
    "    N ← length(A)\n",
    "    repeat\n",
    "       for i = 1 to N-1 inclusive do\n",
    "          if A[i] > A[i+1] then\n",
    "             swap(A[i], A[i+1])\n",
    "          end if\n",
    "       end for\n",
    "       N ← N - 1\n",
    "    until N = 0\n",
    "end procedure\n",
    "```\n",
    "\n",
    "Note that this pseudocode assumes that the list `A` has entries indexed from `1` to `N`. \n",
    "This is because some languages, e.g. Fortran and MATLAB, use '1' for the index of the first entry in an array. Python, C, and numerous other languages use '0' as the index for the first entry in an array.\n",
    "Because different languages have different conventions, it is important to pay attention to details like this when reading pseudocode. Mistakes due to 0-based or 1-based indexing are common, sufficiently so that there is a name for\n",
    "such an error - 'off-by-one error'.\n",
    "\n",
    "Below is an implementation of bubble sort in Python:"
   ]
  },
  {
   "cell_type": "code",
   "execution_count": 6,
   "metadata": {},
   "outputs": [],
   "source": [
    "def bubble_sort(A):\n",
    "    \"Sort A and return\"\n",
    "\n",
    "    # Make a copy of A    \n",
    "    A = A.copy()\n",
    "\n",
    "    # Perform sorting    \n",
    "    N = len(A)\n",
    "    while N > 0:\n",
    "        for i in range(N - 1):\n",
    "            # Swap data if in wrong order\n",
    "            if A[i] > A[i + 1]:\n",
    "                A[i + 1], A[i] = A[i], A[i + 1]\n",
    "            # Enable the below print statement to see how the algorithms progresses\n",
    "            # print(f\"   N={N}, i={i}, A={A}\")\n",
    "        N = N - 1\n",
    "        \n",
    "    return A"
   ]
  },
  {
   "cell_type": "markdown",
   "metadata": {},
   "source": [
    "We can test our bubble sort implementation with some random data:"
   ]
  },
  {
   "cell_type": "code",
   "execution_count": 7,
   "metadata": {},
   "outputs": [
    {
     "name": "stdout",
     "output_type": "stream",
     "text": [
      "Original list:  [0.91148165 0.97641682 0.06696623 0.62336188 0.63505537 0.97540544]\n",
      "Sorted list:    [0.06696623 0.62336188 0.63505537 0.91148165 0.97540544 0.97641682]\n"
     ]
    }
   ],
   "source": [
    "# Generate array of 6 random values\n",
    "x = np.random.rand(6)\n",
    "\n",
    "# Sort array and print\n",
    "print(\"Original list: \", x)\n",
    "x = bubble_sort(x)\n",
    "print(\"Sorted list:   \", x)"
   ]
  },
  {
   "cell_type": "markdown",
   "metadata": {},
   "source": [
    "Bubble sort is not a sophisticated algorithm and, as we will see, it is very inefficient for large lists. But, it performs the task. Performance is not always a concern. We just need implementations that are sufficiently fast for a given application. If performance is not critical, clarity and simplicity of the code should be prized."
   ]
  },
  {
   "cell_type": "markdown",
   "metadata": {},
   "source": [
    "### Quicksort\n",
    "\n",
    "A widely used algorithm for sorting, developed in 1959, is *quicksort*. It is known as a 'divide and conquer' type algorithm. It essentially picks a value in the array (the pivot), and partitions the entries into two groups; those less than the pivot and those greater than or equal to the pivot. It then repeats the process on each group. This make quicksort a *recursive* algorithm.\n",
    "\n",
    "Below is the quicksort algorithm in pseudocode, taken from https://en.wikipedia.org/wiki/Quicksort#Lomuto_partition_scheme:"
   ]
  },
  {
   "cell_type": "markdown",
   "metadata": {},
   "source": [
    "```\n",
    "algorithm quicksort(A, lo, hi) is\n",
    "    if lo < hi then\n",
    "        p := partition(A, lo, hi)\n",
    "        quicksort(A, lo, p – 1)\n",
    "        quicksort(A, p + 1, hi)\n",
    "\n",
    "algorithm partition(A, lo, hi) is\n",
    "    pivot := A[hi]\n",
    "    i := lo        // place for swapping\n",
    "    for j := lo to hi – 1 do\n",
    "        if A[j] ≤ pivot then\n",
    "            swap A[i] with A[j]\n",
    "            i := i + 1\n",
    "    swap A[i] with A[hi]\n",
    "    return i\n",
    "```\n",
    "\n",
    "The algorithm is started with `quicksort(A, 0, len(A)-1)`\n",
    "\n",
    "We implement this now in Python:"
   ]
  },
  {
   "cell_type": "code",
   "execution_count": 8,
   "metadata": {},
   "outputs": [],
   "source": [
    "import numpy as np\n",
    "def quicksort(A, lo=0, hi=None):\n",
    "    \"Sort A and return sorted array\"\n",
    "\n",
    "    # Initialise data the first time function is called    \n",
    "    if hi is None:\n",
    "        A = A.copy()\n",
    "        hi = len(A) - 1\n",
    "\n",
    "    # Sort    \n",
    "    if lo < hi:\n",
    "        p = partition(A, lo,  hi)\n",
    "        quicksort(A, lo, p - 1)\n",
    "        quicksort(A, p + 1, hi)\n",
    "    return A\n",
    "\n",
    "\n",
    "def partition(A, lo, hi):\n",
    "    \"Partitioning function for use in quicksort\"\n",
    "    pivot = A[hi]\n",
    "    i = lo\n",
    "    for j in range(lo,  hi):\n",
    "        if A[j] <= pivot:\n",
    "            A[i], A[j] = A[j], A[i]\n",
    "            i += 1\n",
    "    A[i], A[hi] = A[hi], A[i]\n",
    "    return i"
   ]
  },
  {
   "cell_type": "markdown",
   "metadata": {},
   "source": [
    "We do not want to focus on details of the quicksort algorithm, but do wish to highlight the close resemblance between the pseudocode and the Python implementation.\n",
    "\n",
    "We now test the implementation for an array of random numbers:"
   ]
  },
  {
   "cell_type": "code",
   "execution_count": 9,
   "metadata": {},
   "outputs": [
    {
     "name": "stdout",
     "output_type": "stream",
     "text": [
      "Unsorted:  [0.1613995  0.501069   0.69020086 0.74163491 0.89808023 0.27383617\n",
      " 0.8862991  0.90981921 0.96928032 0.68735781]\n",
      "Sorted:    [0.1613995  0.27383617 0.501069   0.68735781 0.69020086 0.74163491\n",
      " 0.8862991  0.89808023 0.90981921 0.96928032]\n"
     ]
    }
   ],
   "source": [
    "x = np.random.rand(10)\n",
    "print(\"Unsorted: \", x)\n",
    "\n",
    "y = quicksort(x)\n",
    "print(\"Sorted:   \", y)"
   ]
  },
  {
   "cell_type": "markdown",
   "metadata": {},
   "source": [
    "### Sort performance \n",
    "\n",
    "Bubble sort and quicksort both sort arrays. So which is better? Let's test \n",
    "the performance on an array of 5,000 random numbers:"
   ]
  },
  {
   "cell_type": "code",
   "execution_count": 10,
   "metadata": {},
   "outputs": [],
   "source": [
    "data = np.random.rand(5000)"
   ]
  },
  {
   "cell_type": "markdown",
   "metadata": {},
   "source": [
    "We first time bubble sort, using the magic command [`%time`](Notebook%20tips.ipynb#Simple-timing) to get the execution time:"
   ]
  },
  {
   "cell_type": "code",
   "execution_count": 11,
   "metadata": {},
   "outputs": [
    {
     "name": "stdout",
     "output_type": "stream",
     "text": [
      "CPU times: user 2.38 s, sys: 15.8 ms, total: 2.4 s\n",
      "Wall time: 2.33 s\n"
     ]
    }
   ],
   "source": [
    "%time x = bubble_sort(data)"
   ]
  },
  {
   "cell_type": "markdown",
   "metadata": {},
   "source": [
    "And now quicksort:"
   ]
  },
  {
   "cell_type": "code",
   "execution_count": 12,
   "metadata": {},
   "outputs": [
    {
     "name": "stdout",
     "output_type": "stream",
     "text": [
      "CPU times: user 11.9 ms, sys: 505 µs, total: 12.4 ms\n",
      "Wall time: 12.1 ms\n"
     ]
    }
   ],
   "source": [
    "%time x = quicksort(data)"
   ]
  },
  {
   "cell_type": "markdown",
   "metadata": {},
   "source": [
    "Clearly, quicksort is *much* faster than bubble sort. \n",
    "\n",
    "Finally, we test the NumPy quicksort function:"
   ]
  },
  {
   "cell_type": "code",
   "execution_count": 13,
   "metadata": {},
   "outputs": [
    {
     "name": "stdout",
     "output_type": "stream",
     "text": [
      "CPU times: user 519 µs, sys: 431 µs, total: 950 µs\n",
      "Wall time: 405 µs\n"
     ]
    }
   ],
   "source": [
    "%time x = np.sort(data, kind='quicksort')"
   ]
  },
  {
   "cell_type": "markdown",
   "metadata": {},
   "source": [
    "The NumPy implementation is considerably faster than our implementation of quicksort."
   ]
  },
  {
   "cell_type": "markdown",
   "metadata": {},
   "source": [
    "## Summary\n",
    "\n",
    "We have looked at search and sorting as examples of algorithms.\n",
    "Sometimes we need to write algorithms for a\n",
    "specialised problem. However, for common algorithms like search and sorting always use the built-in/library versions. These will be faster and better tested.\n",
    "\n",
    "We will examine the assessment of the cost of algorithms, including sorting, in terms of *algorithmic complexity* in the next notebook."
   ]
  },
  {
   "cell_type": "markdown",
   "metadata": {},
   "source": [
    "## Exercises\n",
    "\n",
    "Complete now the [10 Exercises](Exercises/10%20Exercises.ipynb) notebook."
   ]
  }
 ],
 "metadata": {
  "kernelspec": {
   "display_name": "Python 3 (ipykernel)",
   "language": "python",
   "name": "python3"
  },
  "language_info": {
   "codemirror_mode": {
    "name": "ipython",
    "version": 3
   },
   "file_extension": ".py",
   "mimetype": "text/x-python",
   "name": "python",
   "nbconvert_exporter": "python",
   "pygments_lexer": "ipython3",
   "version": "3.10.6"
  }
 },
 "nbformat": 4,
 "nbformat_minor": 4
}
